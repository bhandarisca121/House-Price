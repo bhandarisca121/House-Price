{
 "cells": [
  {
   "cell_type": "code",
   "execution_count": 3,
   "metadata": {},
   "outputs": [],
   "source": [
    "import pandas as pd\n",
    "import numpy as np\n",
    "import seaborn as sns\n",
    "import matplotlib.pyplot as plt\n",
    "from sklearn.model_selection import train_test_split\n",
    "from sklearn.linear_model import LinearRegression, Ridge, Lasso\n",
    "from sklearn.ensemble import RandomForestRegressor, GradientBoostingRegressor\n",
    "from sklearn.tree import DecisionTreeRegressor\n",
    "from sklearn.svm import SVR\n",
    "from sklearn.neighbors import KNeighborsRegressor\n",
    "from sklearn.metrics import mean_squared_error, mean_absolute_error, r2_score"
   ]
  },
  {
   "cell_type": "code",
   "execution_count": 4,
   "metadata": {},
   "outputs": [],
   "source": [
    "df=pd.read_csv(\"/Users/shree/Desktop/House Price/notebook/House Price.csv\")"
   ]
  },
  {
   "cell_type": "code",
   "execution_count": 5,
   "metadata": {},
   "outputs": [
    {
     "data": {
      "text/html": [
       "<div>\n",
       "<style scoped>\n",
       "    .dataframe tbody tr th:only-of-type {\n",
       "        vertical-align: middle;\n",
       "    }\n",
       "\n",
       "    .dataframe tbody tr th {\n",
       "        vertical-align: top;\n",
       "    }\n",
       "\n",
       "    .dataframe thead th {\n",
       "        text-align: right;\n",
       "    }\n",
       "</style>\n",
       "<table border=\"1\" class=\"dataframe\">\n",
       "  <thead>\n",
       "    <tr style=\"text-align: right;\">\n",
       "      <th></th>\n",
       "      <th>Bedrooms</th>\n",
       "      <th>Bathrooms</th>\n",
       "      <th>SquareFootage</th>\n",
       "      <th>LocationScore</th>\n",
       "      <th>Price</th>\n",
       "    </tr>\n",
       "  </thead>\n",
       "  <tbody>\n",
       "    <tr>\n",
       "      <th>495</th>\n",
       "      <td>1</td>\n",
       "      <td>3</td>\n",
       "      <td>546</td>\n",
       "      <td>7.72</td>\n",
       "      <td>250041.26</td>\n",
       "    </tr>\n",
       "    <tr>\n",
       "      <th>496</th>\n",
       "      <td>3</td>\n",
       "      <td>1</td>\n",
       "      <td>3859</td>\n",
       "      <td>7.44</td>\n",
       "      <td>416870.07</td>\n",
       "    </tr>\n",
       "    <tr>\n",
       "      <th>497</th>\n",
       "      <td>1</td>\n",
       "      <td>2</td>\n",
       "      <td>1277</td>\n",
       "      <td>5.69</td>\n",
       "      <td>215605.77</td>\n",
       "    </tr>\n",
       "    <tr>\n",
       "      <th>498</th>\n",
       "      <td>1</td>\n",
       "      <td>3</td>\n",
       "      <td>1539</td>\n",
       "      <td>8.40</td>\n",
       "      <td>310625.45</td>\n",
       "    </tr>\n",
       "    <tr>\n",
       "      <th>499</th>\n",
       "      <td>1</td>\n",
       "      <td>3</td>\n",
       "      <td>1210</td>\n",
       "      <td>4.88</td>\n",
       "      <td>244591.69</td>\n",
       "    </tr>\n",
       "  </tbody>\n",
       "</table>\n",
       "</div>"
      ],
      "text/plain": [
       "     Bedrooms  Bathrooms  SquareFootage  LocationScore      Price\n",
       "495         1          3            546           7.72  250041.26\n",
       "496         3          1           3859           7.44  416870.07\n",
       "497         1          2           1277           5.69  215605.77\n",
       "498         1          3           1539           8.40  310625.45\n",
       "499         1          3           1210           4.88  244591.69"
      ]
     },
     "execution_count": 5,
     "metadata": {},
     "output_type": "execute_result"
    }
   ],
   "source": [
    "df.head()\n",
    "df.tail()"
   ]
  },
  {
   "cell_type": "code",
   "execution_count": 6,
   "metadata": {},
   "outputs": [
    {
     "name": "stdout",
     "output_type": "stream",
     "text": [
      "<class 'pandas.core.frame.DataFrame'>\n",
      "RangeIndex: 500 entries, 0 to 499\n",
      "Data columns (total 5 columns):\n",
      " #   Column         Non-Null Count  Dtype  \n",
      "---  ------         --------------  -----  \n",
      " 0   Bedrooms       500 non-null    int64  \n",
      " 1   Bathrooms      500 non-null    int64  \n",
      " 2   SquareFootage  500 non-null    int64  \n",
      " 3   LocationScore  500 non-null    float64\n",
      " 4   Price          500 non-null    float64\n",
      "dtypes: float64(2), int64(3)\n",
      "memory usage: 19.7 KB\n"
     ]
    }
   ],
   "source": [
    "df.info()"
   ]
  },
  {
   "cell_type": "code",
   "execution_count": 7,
   "metadata": {},
   "outputs": [
    {
     "data": {
      "text/plain": [
       "Bedrooms         0\n",
       "Bathrooms        0\n",
       "SquareFootage    0\n",
       "LocationScore    0\n",
       "Price            0\n",
       "dtype: int64"
      ]
     },
     "execution_count": 7,
     "metadata": {},
     "output_type": "execute_result"
    }
   ],
   "source": [
    "df.isnull().sum()"
   ]
  },
  {
   "cell_type": "code",
   "execution_count": 8,
   "metadata": {},
   "outputs": [
    {
     "data": {
      "text/html": [
       "<div>\n",
       "<style scoped>\n",
       "    .dataframe tbody tr th:only-of-type {\n",
       "        vertical-align: middle;\n",
       "    }\n",
       "\n",
       "    .dataframe tbody tr th {\n",
       "        vertical-align: top;\n",
       "    }\n",
       "\n",
       "    .dataframe thead th {\n",
       "        text-align: right;\n",
       "    }\n",
       "</style>\n",
       "<table border=\"1\" class=\"dataframe\">\n",
       "  <thead>\n",
       "    <tr style=\"text-align: right;\">\n",
       "      <th></th>\n",
       "      <th>Bedrooms</th>\n",
       "      <th>Bathrooms</th>\n",
       "      <th>SquareFootage</th>\n",
       "      <th>LocationScore</th>\n",
       "      <th>Price</th>\n",
       "    </tr>\n",
       "  </thead>\n",
       "  <tbody>\n",
       "    <tr>\n",
       "      <th>count</th>\n",
       "      <td>500.000000</td>\n",
       "      <td>500.000000</td>\n",
       "      <td>500.000000</td>\n",
       "      <td>500.000000</td>\n",
       "      <td>500.000000</td>\n",
       "    </tr>\n",
       "    <tr>\n",
       "      <th>mean</th>\n",
       "      <td>2.970000</td>\n",
       "      <td>1.968000</td>\n",
       "      <td>2316.302000</td>\n",
       "      <td>5.539900</td>\n",
       "      <td>348656.483700</td>\n",
       "    </tr>\n",
       "    <tr>\n",
       "      <th>std</th>\n",
       "      <td>1.425891</td>\n",
       "      <td>0.817504</td>\n",
       "      <td>1041.692016</td>\n",
       "      <td>2.595169</td>\n",
       "      <td>76726.143879</td>\n",
       "    </tr>\n",
       "    <tr>\n",
       "      <th>min</th>\n",
       "      <td>1.000000</td>\n",
       "      <td>1.000000</td>\n",
       "      <td>510.000000</td>\n",
       "      <td>1.000000</td>\n",
       "      <td>163646.900000</td>\n",
       "    </tr>\n",
       "    <tr>\n",
       "      <th>25%</th>\n",
       "      <td>2.000000</td>\n",
       "      <td>1.000000</td>\n",
       "      <td>1430.250000</td>\n",
       "      <td>3.285000</td>\n",
       "      <td>290607.870000</td>\n",
       "    </tr>\n",
       "    <tr>\n",
       "      <th>50%</th>\n",
       "      <td>3.000000</td>\n",
       "      <td>2.000000</td>\n",
       "      <td>2357.500000</td>\n",
       "      <td>5.695000</td>\n",
       "      <td>350451.735000</td>\n",
       "    </tr>\n",
       "    <tr>\n",
       "      <th>75%</th>\n",
       "      <td>4.000000</td>\n",
       "      <td>3.000000</td>\n",
       "      <td>3262.750000</td>\n",
       "      <td>7.722500</td>\n",
       "      <td>399404.072500</td>\n",
       "    </tr>\n",
       "    <tr>\n",
       "      <th>max</th>\n",
       "      <td>5.000000</td>\n",
       "      <td>3.000000</td>\n",
       "      <td>3995.000000</td>\n",
       "      <td>9.990000</td>\n",
       "      <td>544693.250000</td>\n",
       "    </tr>\n",
       "  </tbody>\n",
       "</table>\n",
       "</div>"
      ],
      "text/plain": [
       "         Bedrooms   Bathrooms  SquareFootage  LocationScore          Price\n",
       "count  500.000000  500.000000     500.000000     500.000000     500.000000\n",
       "mean     2.970000    1.968000    2316.302000       5.539900  348656.483700\n",
       "std      1.425891    0.817504    1041.692016       2.595169   76726.143879\n",
       "min      1.000000    1.000000     510.000000       1.000000  163646.900000\n",
       "25%      2.000000    1.000000    1430.250000       3.285000  290607.870000\n",
       "50%      3.000000    2.000000    2357.500000       5.695000  350451.735000\n",
       "75%      4.000000    3.000000    3262.750000       7.722500  399404.072500\n",
       "max      5.000000    3.000000    3995.000000       9.990000  544693.250000"
      ]
     },
     "execution_count": 8,
     "metadata": {},
     "output_type": "execute_result"
    }
   ],
   "source": [
    "df.describe()"
   ]
  },
  {
   "cell_type": "code",
   "execution_count": 9,
   "metadata": {},
   "outputs": [
    {
     "data": {
      "text/plain": [
       "Index(['Bedrooms', 'Bathrooms', 'SquareFootage', 'LocationScore', 'Price'], dtype='object')"
      ]
     },
     "execution_count": 9,
     "metadata": {},
     "output_type": "execute_result"
    }
   ],
   "source": [
    "df.columns"
   ]
  },
  {
   "cell_type": "code",
   "execution_count": 10,
   "metadata": {},
   "outputs": [
    {
     "data": {
      "text/plain": [
       "Bedrooms           int64\n",
       "Bathrooms          int64\n",
       "SquareFootage      int64\n",
       "LocationScore    float64\n",
       "Price            float64\n",
       "dtype: object"
      ]
     },
     "execution_count": 10,
     "metadata": {},
     "output_type": "execute_result"
    }
   ],
   "source": [
    "df.dtypes"
   ]
  },
  {
   "cell_type": "code",
   "execution_count": 11,
   "metadata": {},
   "outputs": [
    {
     "data": {
      "text/plain": [
       "array([[<Axes: title={'center': 'Bedrooms'}>,\n",
       "        <Axes: title={'center': 'Bathrooms'}>],\n",
       "       [<Axes: title={'center': 'SquareFootage'}>,\n",
       "        <Axes: title={'center': 'LocationScore'}>],\n",
       "       [<Axes: title={'center': 'Price'}>, <Axes: >]], dtype=object)"
      ]
     },
     "execution_count": 11,
     "metadata": {},
     "output_type": "execute_result"
    },
    {
     "data": {
      "image/png": "[encoded data removed]",
      "text/plain": [
       "<Figure size 640x480 with 6 Axes>"
      ]
     },
     "metadata": {},
     "output_type": "display_data"
    }
   ],
   "source": [
    "df.hist()"
   ]
  },
  {
   "cell_type": "code",
   "execution_count": 12,
   "metadata": {},
   "outputs": [
    {
     "data": {
      "text/plain": [
       "<Axes: ylabel='Price'>"
      ]
     },
     "execution_count": 12,
     "metadata": {},
     "output_type": "execute_result"
    },
    {
     "data": {
      "image/png": "[encoded data removed]",
      "text/plain": [
       "<Figure size 640x480 with 1 Axes>"
      ]
     },
     "metadata": {},
     "output_type": "display_data"
    }
   ],
   "source": [
    "sns.boxplot(df['Price'])"
   ]
  },
  {
   "cell_type": "code",
   "execution_count": 13,
   "metadata": {},
   "outputs": [
    {
     "data": {
      "text/plain": [
       "<Axes: ylabel='Bedrooms'>"
      ]
     },
     "execution_count": 13,
     "metadata": {},
     "output_type": "execute_result"
    },
    {
     "data": {
      "image/png": "[encoded data removed]",
      "text/plain": [
       "<Figure size 640x480 with 1 Axes>"
      ]
     },
     "metadata": {},
     "output_type": "display_data"
    }
   ],
   "source": [
    "sns.boxplot(df['Bedrooms'])"
   ]
  },
  {
   "cell_type": "code",
   "execution_count": 14,
   "metadata": {},
   "outputs": [
    {
     "data": {
      "text/plain": [
       "<Axes: ylabel='LocationScore'>"
      ]
     },
     "execution_count": 14,
     "metadata": {},
     "output_type": "execute_result"
    },
    {
     "data": {
      "image/png": "[encoded data removed]",
      "text/plain": [
       "<Figure size 640x480 with 1 Axes>"
      ]
     },
     "metadata": {},
     "output_type": "display_data"
    }
   ],
   "source": [
    "sns.boxplot(df['LocationScore'])"
   ]
  },
  {
   "cell_type": "code",
   "execution_count": 15,
   "metadata": {},
   "outputs": [
    {
     "data": {
      "text/plain": [
       "Index(['Bedrooms', 'Bathrooms', 'SquareFootage', 'LocationScore', 'Price'], dtype='object')"
      ]
     },
     "execution_count": 15,
     "metadata": {},
     "output_type": "execute_result"
    }
   ],
   "source": [
    "df.columns"
   ]
  },
  {
   "cell_type": "code",
   "execution_count": 16,
   "metadata": {},
   "outputs": [],
   "source": [
    "X=df.drop('Price', axis=1)\n",
    "y=df['Price']"
   ]
  },
  {
   "cell_type": "code",
   "execution_count": 17,
   "metadata": {},
   "outputs": [
    {
     "data": {
      "text/plain": [
       "Bedrooms           int64\n",
       "Bathrooms          int64\n",
       "SquareFootage      int64\n",
       "LocationScore    float64\n",
       "Price            float64\n",
       "dtype: object"
      ]
     },
     "execution_count": 17,
     "metadata": {},
     "output_type": "execute_result"
    }
   ],
   "source": [
    "df.dtypes"
   ]
  },
  {
   "cell_type": "code",
   "execution_count": 18,
   "metadata": {},
   "outputs": [],
   "source": [
    "X_train, X_test, y_train, y_test, = train_test_split(X,y, test_size=0.2, random_state=42)"
   ]
  },
  {
   "cell_type": "code",
   "execution_count": 19,
   "metadata": {},
   "outputs": [],
   "source": [
    "models = {\n",
    "    \"LinearRegression\": LinearRegression(),\n",
    "    \"Ridge\": Ridge(),\n",
    "    \"Lasso\": Lasso(),\n",
    "    \"SVR\": SVR(),\n",
    "    \"Decision Tree\": DecisionTreeRegressor(),\n",
    "    \"KNN\": KNeighborsRegressor(),\n",
    "    \"Gradient Boost\": GradientBoostingRegressor(),\n",
    "    \"RandomForestRegressor\": RandomForestRegressor()\n",
    "}\n",
    "\n",
    "results = []\n",
    "for name, model in models.items():\n",
    "    model.fit(X_train, y_train)\n",
    "    preds = model.predict(X_test)\n",
    "\n",
    "    mae = mean_absolute_error(y_test, preds)\n",
    "    mse = mean_squared_error(y_test, preds)\n",
    "    r2 = r2_score(y_test, preds)\n",
    "\n",
    "    results.append({\n",
    "        \"model\": name,\n",
    "        \"Absolute Error\": mae,\n",
    "        \"MSE\": mse,\n",
    "        \"R2 Score\": r2\n",
    "    })\n",
    "    "
   ]
  },
  {
   "cell_type": "code",
   "execution_count": 20,
   "metadata": {},
   "outputs": [
    {
     "name": "stdout",
     "output_type": "stream",
     "text": [
      "[{'model': 'LinearRegression', 'Absolute Error': 17769.54258586047, 'MSE': 435633553.1271085, 'R2 Score': 0.927373270368339}, {'model': 'Ridge', 'Absolute Error': 17779.827685305114, 'MSE': 435978006.1114494, 'R2 Score': 0.9273158448243584}, {'model': 'Lasso', 'Absolute Error': 17769.766264798483, 'MSE': 435640177.82231516, 'R2 Score': 0.9273721659310333}, {'model': 'SVR', 'Absolute Error': 61682.72719134527, 'MSE': 5998564041.499906, 'R2 Score': -5.173084797305272e-05}, {'model': 'Decision Tree', 'Absolute Error': 29848.2889, 'MSE': 1567983438.3451788, 'R2 Score': 0.738593346572663}, {'model': 'KNN', 'Absolute Error': 53017.97605999999, 'MSE': 3872198756.183917, 'R2 Score': 0.3544456570741513}, {'model': 'Gradient Boost', 'Absolute Error': 19582.3828547594, 'MSE': 591282585.7388566, 'R2 Score': 0.9014242126619767}, {'model': 'RandomForestRegressor', 'Absolute Error': 21414.29426599999, 'MSE': 697064747.2861542, 'R2 Score': 0.8837887197312779}]\n"
     ]
    }
   ],
   "source": [
    "print(results)"
   ]
  },
  {
   "cell_type": "code",
   "execution_count": 21,
   "metadata": {},
   "outputs": [
    {
     "name": "stdout",
     "output_type": "stream",
     "text": [
      "{'model': 'LinearRegression', 'Absolute Error': 17769.54258586047, 'MSE': 435633553.1271085, 'R2 Score': 0.927373270368339}\n",
      "{'model': 'Ridge', 'Absolute Error': 17779.827685305114, 'MSE': 435978006.1114494, 'R2 Score': 0.9273158448243584}\n",
      "{'model': 'Lasso', 'Absolute Error': 17769.766264798483, 'MSE': 435640177.82231516, 'R2 Score': 0.9273721659310333}\n",
      "{'model': 'SVR', 'Absolute Error': 61682.72719134527, 'MSE': 5998564041.499906, 'R2 Score': -5.173084797305272e-05}\n",
      "{'model': 'Decision Tree', 'Absolute Error': 29848.2889, 'MSE': 1567983438.3451788, 'R2 Score': 0.738593346572663}\n",
      "{'model': 'KNN', 'Absolute Error': 53017.97605999999, 'MSE': 3872198756.183917, 'R2 Score': 0.3544456570741513}\n",
      "{'model': 'Gradient Boost', 'Absolute Error': 19582.3828547594, 'MSE': 591282585.7388566, 'R2 Score': 0.9014242126619767}\n",
      "{'model': 'RandomForestRegressor', 'Absolute Error': 21414.29426599999, 'MSE': 697064747.2861542, 'R2 Score': 0.8837887197312779}\n"
     ]
    }
   ],
   "source": [
    "for row in results:\n",
    "    print(row)"
   ]
  },
  {
   "cell_type": "code",
   "execution_count": 22,
   "metadata": {},
   "outputs": [
    {
     "name": "stdout",
     "output_type": "stream",
     "text": [
      "model: LinearRegression Absolute Error: 17769.54 MSE: 435633553.13 R2 Score: 0.93\n",
      "model: Ridge Absolute Error: 17779.83 MSE: 435978006.11 R2 Score: 0.93\n",
      "model: Lasso Absolute Error: 17769.77 MSE: 435640177.82 R2 Score: 0.93\n",
      "model: SVR Absolute Error: 61682.73 MSE: 5998564041.50 R2 Score: -0.00\n",
      "model: Decision Tree Absolute Error: 29848.29 MSE: 1567983438.35 R2 Score: 0.74\n",
      "model: KNN Absolute Error: 53017.98 MSE: 3872198756.18 R2 Score: 0.35\n",
      "model: Gradient Boost Absolute Error: 19582.38 MSE: 591282585.74 R2 Score: 0.90\n",
      "model: RandomForestRegressor Absolute Error: 21414.29 MSE: 697064747.29 R2 Score: 0.88\n"
     ]
    }
   ],
   "source": [
    "for row in results:\n",
    "    print(' '.join(f\"{k}: {v:.2f}\" if isinstance(v, (int, float)) else f\"{k}: {v}\" for k, v in row.items()))\n"
   ]
  },
  {
   "cell_type": "code",
   "execution_count": 23,
   "metadata": {},
   "outputs": [
    {
     "data": {
      "text/plain": [
       "Index(['Bedrooms', 'Bathrooms', 'SquareFootage', 'LocationScore', 'Price'], dtype='object')"
      ]
     },
     "execution_count": 23,
     "metadata": {},
     "output_type": "execute_result"
    }
   ],
   "source": [
    "df.columns\n"
   ]
  },
  {
   "cell_type": "code",
   "execution_count": 24,
   "metadata": {},
   "outputs": [
    {
     "data": {
      "text/plain": [
       "['linear_model.pkl']"
      ]
     },
     "execution_count": 24,
     "metadata": {},
     "output_type": "execute_result"
    }
   ],
   "source": [
    "import joblib\n",
    "\n",
    "# Example: Fit a model\n",
    "model = LinearRegression()\n",
    "model.fit(X_train, y_train)\n",
    "\n",
    "# Save the model to a .pkl file\n",
    "joblib.dump(model, 'linear_model.pkl')"
   ]
  },
  {
   "cell_type": "code",
   "execution_count": 25,
   "metadata": {},
   "outputs": [
    {
     "data": {
      "text/html": [
       "<div>\n",
       "<style scoped>\n",
       "    .dataframe tbody tr th:only-of-type {\n",
       "        vertical-align: middle;\n",
       "    }\n",
       "\n",
       "    .dataframe tbody tr th {\n",
       "        vertical-align: top;\n",
       "    }\n",
       "\n",
       "    .dataframe thead th {\n",
       "        text-align: right;\n",
       "    }\n",
       "</style>\n",
       "<table border=\"1\" class=\"dataframe\">\n",
       "  <thead>\n",
       "    <tr style=\"text-align: right;\">\n",
       "      <th></th>\n",
       "      <th>Bedrooms</th>\n",
       "      <th>Bathrooms</th>\n",
       "      <th>SquareFootage</th>\n",
       "      <th>LocationScore</th>\n",
       "      <th>Price</th>\n",
       "    </tr>\n",
       "  </thead>\n",
       "  <tbody>\n",
       "    <tr>\n",
       "      <th>count</th>\n",
       "      <td>500.000000</td>\n",
       "      <td>500.000000</td>\n",
       "      <td>500.000000</td>\n",
       "      <td>500.000000</td>\n",
       "      <td>500.000000</td>\n",
       "    </tr>\n",
       "    <tr>\n",
       "      <th>mean</th>\n",
       "      <td>2.970000</td>\n",
       "      <td>1.968000</td>\n",
       "      <td>2316.302000</td>\n",
       "      <td>5.539900</td>\n",
       "      <td>348656.483700</td>\n",
       "    </tr>\n",
       "    <tr>\n",
       "      <th>std</th>\n",
       "      <td>1.425891</td>\n",
       "      <td>0.817504</td>\n",
       "      <td>1041.692016</td>\n",
       "      <td>2.595169</td>\n",
       "      <td>76726.143879</td>\n",
       "    </tr>\n",
       "    <tr>\n",
       "      <th>min</th>\n",
       "      <td>1.000000</td>\n",
       "      <td>1.000000</td>\n",
       "      <td>510.000000</td>\n",
       "      <td>1.000000</td>\n",
       "      <td>163646.900000</td>\n",
       "    </tr>\n",
       "    <tr>\n",
       "      <th>25%</th>\n",
       "      <td>2.000000</td>\n",
       "      <td>1.000000</td>\n",
       "      <td>1430.250000</td>\n",
       "      <td>3.285000</td>\n",
       "      <td>290607.870000</td>\n",
       "    </tr>\n",
       "    <tr>\n",
       "      <th>50%</th>\n",
       "      <td>3.000000</td>\n",
       "      <td>2.000000</td>\n",
       "      <td>2357.500000</td>\n",
       "      <td>5.695000</td>\n",
       "      <td>350451.735000</td>\n",
       "    </tr>\n",
       "    <tr>\n",
       "      <th>75%</th>\n",
       "      <td>4.000000</td>\n",
       "      <td>3.000000</td>\n",
       "      <td>3262.750000</td>\n",
       "      <td>7.722500</td>\n",
       "      <td>399404.072500</td>\n",
       "    </tr>\n",
       "    <tr>\n",
       "      <th>max</th>\n",
       "      <td>5.000000</td>\n",
       "      <td>3.000000</td>\n",
       "      <td>3995.000000</td>\n",
       "      <td>9.990000</td>\n",
       "      <td>544693.250000</td>\n",
       "    </tr>\n",
       "  </tbody>\n",
       "</table>\n",
       "</div>"
      ],
      "text/plain": [
       "         Bedrooms   Bathrooms  SquareFootage  LocationScore          Price\n",
       "count  500.000000  500.000000     500.000000     500.000000     500.000000\n",
       "mean     2.970000    1.968000    2316.302000       5.539900  348656.483700\n",
       "std      1.425891    0.817504    1041.692016       2.595169   76726.143879\n",
       "min      1.000000    1.000000     510.000000       1.000000  163646.900000\n",
       "25%      2.000000    1.000000    1430.250000       3.285000  290607.870000\n",
       "50%      3.000000    2.000000    2357.500000       5.695000  350451.735000\n",
       "75%      4.000000    3.000000    3262.750000       7.722500  399404.072500\n",
       "max      5.000000    3.000000    3995.000000       9.990000  544693.250000"
      ]
     },
     "execution_count": 25,
     "metadata": {},
     "output_type": "execute_result"
    }
   ],
   "source": [
    "df.describe()"
   ]
  },
  {
   "cell_type": "code",
   "execution_count": 38,
   "metadata": {},
   "outputs": [
    {
     "name": "stdout",
     "output_type": "stream",
     "text": [
      "348656.4837\n"
     ]
    }
   ],
   "source": [
    "import statistics\n",
    "average=statistics.mean(df[\"Price\"])\n",
    "print(average)"
   ]
  },
  {
   "cell_type": "code",
   "execution_count": 40,
   "metadata": {},
   "outputs": [
    {
     "name": "stdout",
     "output_type": "stream",
     "text": [
      "4\n"
     ]
    }
   ],
   "source": [
    "mode=statistics.mode(df['Bedrooms'])\n",
    "print(mode)"
   ]
  }
 ],
 "metadata": {
  "kernelspec": {
   "display_name": "venv",
   "language": "python",
   "name": "python3"
  },
  "language_info": {
   "codemirror_mode": {
    "name": "ipython",
    "version": 3
   },
   "file_extension": ".py",
   "mimetype": "text/x-python",
   "name": "python",
   "nbconvert_exporter": "python",
   "pygments_lexer": "ipython3",
   "version": "3.12.1"
  }
 },
 "nbformat": 4,
 "nbformat_minor": 2
}
